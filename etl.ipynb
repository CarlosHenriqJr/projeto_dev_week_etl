# Importações necessárias
import pandas as pd
import re
